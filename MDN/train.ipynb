{
 "cells": [
  {
   "cell_type": "code",
   "execution_count": 17,
   "metadata": {
    "collapsed": true
   },
   "outputs": [],
   "source": [
    "import torch\n",
    "import torch.optim as opt\n",
    "from sklearn.datasets import fetch_california_housing\n",
    "import numpy as np\n",
    "from MDN import MDN, SDN, distribution_log_prob_loss\n",
    "from torch.utils.data import Dataset, DataLoader"
   ]
  },
  {
   "cell_type": "code",
   "execution_count": 4,
   "outputs": [],
   "source": [
    "num_steps = 5000\n",
    "batch_size = 256\n",
    "learning_rate = 1e-4\n",
    "n_hidden = 4\n",
    "\n",
    "device = \"cuda\" if torch.cuda.is_available() else \"cpu\"\n",
    "data = fetch_california_housing()\n",
    "X = torch.FloatTensor(data[\"data\"]).to(device)\n",
    "y = torch.FloatTensor(data[\"target\"]).to(device)"
   ],
   "metadata": {
    "collapsed": false,
    "pycharm": {
     "name": "#%%\n"
    }
   }
  },
  {
   "cell_type": "code",
   "execution_count": 24,
   "outputs": [],
   "source": [
    "model = SDN(X.shape[-1], n_hidden).to(device)\n",
    "# model.load_state_dict(torch.load(\"run/sdn_state_dict.pt\"))\n",
    "optim = opt.Adam(model.parameters(), lr=learning_rate)"
   ],
   "metadata": {
    "collapsed": false,
    "pycharm": {
     "name": "#%%\n"
    }
   }
  },
  {
   "cell_type": "code",
   "execution_count": 56,
   "outputs": [
    {
     "name": "stdout",
     "output_type": "stream",
     "text": [
      "0.9008913040161133\n",
      "0.8253390789031982\n",
      "1.0706696510314941\n",
      "0.8600386381149292\n",
      "0.8180643320083618\n"
     ]
    }
   ],
   "source": [
    "for i in range(num_steps):\n",
    "    batch_idx = np.random.choice(X.shape[0], batch_size)\n",
    "    dist = model(X[batch_idx])\n",
    "    loss = distribution_log_prob_loss(dist, y[batch_idx])\n",
    "    optim.zero_grad()\n",
    "    loss.backward()\n",
    "    optim.step()\n",
    "    if i % 1000 == 0:\n",
    "        print(loss.item())\n",
    "torch.save(model.state_dict(), \"run/sdn_state_dict.pt\")"
   ],
   "metadata": {
    "collapsed": false,
    "pycharm": {
     "name": "#%%\n"
    }
   }
  },
  {
   "cell_type": "code",
   "execution_count": 12,
   "outputs": [],
   "source": [
    "model = MDN(X.shape[-1], n_hidden, 3).to(device)\n",
    "# model.load_state_dict(torch.load(\"run/mdn_state_dict.pt\"))\n",
    "optim = opt.Adam(model.parameters(), lr=learning_rate)"
   ],
   "metadata": {
    "collapsed": false,
    "pycharm": {
     "name": "#%%\n"
    }
   }
  },
  {
   "cell_type": "code",
   "execution_count": 13,
   "outputs": [
    {
     "name": "stdout",
     "output_type": "stream",
     "text": [
      "3.2419862747192383\n",
      "2.5416717529296875\n",
      "2.093012809753418\n",
      "1.8298964500427246\n",
      "1.6176228523254395\n"
     ]
    }
   ],
   "source": [
    "for i in range(num_steps):\n",
    "    batch_idx = np.random.choice(X.shape[0], batch_size)\n",
    "    pi, dist = model(X[batch_idx])\n",
    "    loss = distribution_log_prob_loss(dist, y[batch_idx, None], pi)\n",
    "    optim.zero_grad()\n",
    "    loss.backward()\n",
    "    optim.step()\n",
    "    if i % 1000 == 0:\n",
    "        print(loss.item())\n",
    "torch.save(model.state_dict(), \"run/mdn_state_dict.pt\")"
   ],
   "metadata": {
    "collapsed": false,
    "pycharm": {
     "name": "#%%\n"
    }
   }
  },
  {
   "cell_type": "code",
   "execution_count": 57,
   "outputs": [],
   "source": [
    "class TensorDataset(Dataset):\n",
    "    def __init__(self, data, target, return_index=False):\n",
    "        if data.shape[0] != target.shape[0]:\n",
    "            raise ValueError(\"Data and Target must have the same length\")\n",
    "        self.data = data\n",
    "        self.target = target\n",
    "        self.return_index = return_index\n",
    "\n",
    "    def __len__(self):\n",
    "        return self.data.shape[0]\n",
    "\n",
    "    def __getitem__(self, idx):\n",
    "        if idx < 0:\n",
    "            idx = len(self) + idx\n",
    "        if self.return_index:\n",
    "            return idx, self.data[idx], self.target[idx]\n",
    "        return self.data[idx], self.target[idx]\n",
    "\n",
    "dataloader = DataLoader(TensorDataset(X, y, return_index=True), batch_size=batch_size, shuffle=False)\n",
    "model.eval()\n",
    "threshold = 2\n",
    "possible_houses = []\n",
    "with torch.no_grad():\n",
    "    for i_batch, (idx_batched, X_batched, y_batched) in enumerate(dataloader):\n",
    "        dist = model(X_batched)\n",
    "        possible_houses.append(idx_batched[dist.mean + 1.28*dist.stddev <= threshold])\n",
    "possible_houses = torch.hstack(possible_houses)"
   ],
   "metadata": {
    "collapsed": false,
    "pycharm": {
     "name": "#%%\n"
    }
   }
  },
  {
   "cell_type": "code",
   "execution_count": 58,
   "outputs": [
    {
     "name": "stdout",
     "output_type": "stream",
     "text": [
      "torch.Size([5478])\n"
     ]
    }
   ],
   "source": [
    "print(possible_houses.shape)\n"
   ],
   "metadata": {
    "collapsed": false,
    "pycharm": {
     "name": "#%%\n"
    }
   }
  }
 ],
 "metadata": {
  "kernelspec": {
   "display_name": "Python 3",
   "language": "python",
   "name": "python3"
  },
  "language_info": {
   "codemirror_mode": {
    "name": "ipython",
    "version": 2
   },
   "file_extension": ".py",
   "mimetype": "text/x-python",
   "name": "python",
   "nbconvert_exporter": "python",
   "pygments_lexer": "ipython2",
   "version": "2.7.6"
  }
 },
 "nbformat": 4,
 "nbformat_minor": 0
}