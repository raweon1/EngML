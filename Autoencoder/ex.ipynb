{
 "cells": [
  {
   "cell_type": "code",
   "execution_count": 13,
   "metadata": {
    "collapsed": true
   },
   "outputs": [],
   "source": [
    "import torch\n",
    "import torch.nn as nn\n",
    "import torchvision\n",
    "import matplotlib.pyplot as plt\n",
    "import numpy as np"
   ]
  },
  {
   "cell_type": "code",
   "execution_count": 7,
   "outputs": [],
   "source": [
    "mnist = torchvision.datasets.MNIST(\"data\", download=False, transform=torchvision.transforms.ToTensor())\n",
    "data_loader = torch.utils.data.DataLoader(mnist, batch_size=100, shuffle=True)"
   ],
   "metadata": {
    "collapsed": false,
    "pycharm": {
     "name": "#%%\n"
    }
   }
  },
  {
   "cell_type": "code",
   "execution_count": 43,
   "outputs": [
    {
     "data": {
      "text/plain": "<matplotlib.image.AxesImage at 0x26af8e8f250>"
     },
     "execution_count": 43,
     "metadata": {},
     "output_type": "execute_result"
    },
    {
     "data": {
      "text/plain": "<Figure size 432x288 with 1 Axes>",
      "image/png": "[encoded data removed]"
     },
     "metadata": {
      "needs_background": "light"
     },
     "output_type": "display_data"
    }
   ],
   "source": [
    "#plt.imshow(mnist[0])\n",
    "t, label = mnist[0]\n",
    "plt.imshow(t.numpy()[0], cmap=\"gray\")"
   ],
   "metadata": {
    "collapsed": false,
    "pycharm": {
     "name": "#%%\n"
    }
   }
  },
  {
   "cell_type": "code",
   "execution_count": 48,
   "outputs": [
    {
     "data": {
      "text/plain": "torch.Size([1, 28, 28])"
     },
     "execution_count": 48,
     "metadata": {},
     "output_type": "execute_result"
    }
   ],
   "source": [
    "t.shape"
   ],
   "metadata": {
    "collapsed": false,
    "pycharm": {
     "name": "#%%\n"
    }
   }
  },
  {
   "cell_type": "code",
   "execution_count": 83,
   "outputs": [],
   "source": [
    "def gauss_filter(img_tensor, mu, sigma):\n",
    "    normal = torch.distributions.Normal(mu, sigma)\n",
    "    return img_tensor + normal.sample(img_tensor.shape)\n",
    "\n",
    "def remove_pixel_filter(img_tensor, zero_chance, fill_chance, fill_value):\n",
    "    img_tensor = img_tensor.clone()\n",
    "    uniform = torch.distributions.Uniform(0, 1)\n",
    "    index = uniform.sample(img_tensor.shape)\n",
    "    img_tensor[index < zero_chance] = 0\n",
    "    img_tensor[index > 1 - fill_chance] = fill_value\n",
    "    return img_tensor"
   ],
   "metadata": {
    "collapsed": false,
    "pycharm": {
     "name": "#%%\n"
    }
   }
  },
  {
   "cell_type": "code",
   "execution_count": 113,
   "outputs": [
    {
     "data": {
      "text/plain": "<matplotlib.image.AxesImage at 0x26af8d75ac0>"
     },
     "execution_count": 113,
     "metadata": {},
     "output_type": "execute_result"
    },
    {
     "data": {
      "text/plain": "<Figure size 432x288 with 1 Axes>",
      "image/png": "[encoded data removed]"
     },
     "metadata": {
      "needs_background": "light"
     },
     "output_type": "display_data"
    }
   ],
   "source": [
    "plt.imshow(gauss_filter(t[0], 0, 0.1), cmap=\"gray\")"
   ],
   "metadata": {
    "collapsed": false,
    "pycharm": {
     "name": "#%%\n"
    }
   }
  },
  {
   "cell_type": "code",
   "execution_count": 47,
   "outputs": [
    {
     "data": {
      "text/plain": "<matplotlib.image.AxesImage at 0x26af9595820>"
     },
     "execution_count": 47,
     "metadata": {},
     "output_type": "execute_result"
    },
    {
     "data": {
      "text/plain": "<Figure size 432x288 with 1 Axes>",
      "image/png": "[encoded data removed]"
     },
     "metadata": {
      "needs_background": "light"
     },
     "output_type": "display_data"
    }
   ],
   "source": [
    "plt.imshow(remove_pixel_filter(t[0], 0.1, 0.1, 1), cmap=\"gray\")"
   ],
   "metadata": {
    "collapsed": false,
    "pycharm": {
     "name": "#%%\n"
    }
   }
  },
  {
   "cell_type": "code",
   "execution_count": 144,
   "outputs": [],
   "source": [
    "def conv_shape(out_channel, width, height, kernel_size, stride, padding):\n",
    "    height_out = (height + 2 * padding - kernel_size) // stride + 1\n",
    "    width_out = (width + 2 * padding - kernel_size) // stride + 1\n",
    "    return out_channel, width_out, height_out\n",
    "\n",
    "def conv_shapes(in_channel, out_channels, width, height, kernel_size, stride, padding):\n",
    "    foo = [(in_channel, width, height)]\n",
    "    for out_channel in out_channels:\n",
    "        foo.append(conv_shape(out_channel, foo[-1][1], foo[-1][2], kernel_size, stride, padding))\n",
    "    return foo\n",
    "\n",
    "class Encoder(nn.Module):\n",
    "    def __init__(self, in_channel, out_channel, width, height, kernel_size, stride, padding, embedding_dim):\n",
    "        super(Encoder, self).__init__()\n",
    "        channel = [in_channel] + out_channel\n",
    "        conv_layer = [(nn.Conv2d(c_in, c_out, kernel_size, stride, padding), nn.ReLU()) for c_in, c_out in zip(channel, out_channel)]\n",
    "        conv_layer = [a for b in conv_layer for a in b]\n",
    "        self.output_size = conv_shapes(in_channel, out_channel, width, height, kernel_size, stride, padding)\n",
    "        conv_out = self.output_size[-1][0] * self.output_size[-1][1] * self.output_size[-1][2]\n",
    "        self.net = nn.Sequential(*conv_layer, nn.Flatten(), nn.Linear(conv_out, embedding_dim))\n",
    "\n",
    "    def forward(self, x):\n",
    "        x = self.net(x)\n",
    "        return x\n",
    "\n",
    "class Decoder(nn.Module):\n",
    "    def __init__(self, output_size, kernel_size, stride, padding, embedding_dim):\n",
    "        super(Decoder, self).__init__()\n",
    "        self.output_size = output_size\n",
    "        conv_in = self.output_size[0][0] * self.output_size[0][1] * self.output_size[0][2]\n",
    "        conv_layer = [nn.ConvTranspose2d(size_in[0], size_out[0], kernel_size, stride, padding) for size_in, size_out in zip(self.output_size, self.output_size[1:])]\n",
    "        self.conv_prep = nn.Sequential(nn.Linear(embedding_dim, conv_in), nn.ReLU(), nn.Unflatten(1, self.output_size[0]))\n",
    "        self.conv_layer = nn.ModuleList(conv_layer)\n",
    "\n",
    "    def forward(self, x):\n",
    "        x = self.conv_prep(x)\n",
    "        for conv_layer, output_size in zip(self.conv_layer[:-1], self.output_size[1:-1]):\n",
    "            x = conv_layer(x, output_size=(x.shape[0], *output_size))\n",
    "            x = nn.functional.relu(x)\n",
    "        x = self.conv_layer[-1](x, output_size=(x.shape[0], *self.output_size[-1]))\n",
    "        return x\n",
    "\n",
    "class Autoencoder(nn.Module):\n",
    "    def __init__(self, in_channel, out_channel, width, height, kernel_size, stride, padding, embedding_dim):\n",
    "        super(Autoencoder, self).__init__()\n",
    "        self.encoder = Encoder(in_channel, out_channel, width, height, kernel_size, stride, padding, embedding_dim)\n",
    "        self.decoder = Decoder(self.encoder.output_size[::-1], kernel_size, stride, padding, embedding_dim)\n",
    "\n",
    "    def forward(self, x):\n",
    "        x = self.encoder(x)\n",
    "        x = self.decoder(x)\n",
    "        return x"
   ],
   "metadata": {
    "collapsed": false,
    "pycharm": {
     "name": "#%%\n"
    }
   }
  },
  {
   "cell_type": "code",
   "execution_count": 157,
   "outputs": [
    {
     "name": "stdout",
     "output_type": "stream",
     "text": [
      "[(1, 28, 28), (4, 13, 13), (8, 6, 6)]\n",
      "Autoencoder(\n",
      "  (encoder): Encoder(\n",
      "    (net): Sequential(\n",
      "      (0): Conv2d(1, 4, kernel_size=(3, 3), stride=(2, 2))\n",
      "      (1): ReLU()\n",
      "      (2): Conv2d(4, 8, kernel_size=(3, 3), stride=(2, 2))\n",
      "      (3): ReLU()\n",
      "      (4): Flatten(start_dim=1, end_dim=-1)\n",
      "      (5): Linear(in_features=288, out_features=64, bias=True)\n",
      "    )\n",
      "  )\n",
      "  (decoder): Decoder(\n",
      "    (conv_prep): Sequential(\n",
      "      (0): Linear(in_features=64, out_features=288, bias=True)\n",
      "      (1): ReLU()\n",
      "      (2): Unflatten(dim=1, unflattened_size=(8, 6, 6))\n",
      "    )\n",
      "    (conv_layer): ModuleList(\n",
      "      (0): ConvTranspose2d(8, 4, kernel_size=(3, 3), stride=(2, 2))\n",
      "      (1): ConvTranspose2d(4, 1, kernel_size=(3, 3), stride=(2, 2))\n",
      "    )\n",
      "  )\n",
      ")\n"
     ]
    }
   ],
   "source": [
    "autoencoder = Autoencoder(1, [4, 8], 28, 28, 3, 2, 0, 64)\n",
    "print(autoencoder.encoder.output_size)\n",
    "print(autoencoder)"
   ],
   "metadata": {
    "collapsed": false,
    "pycharm": {
     "name": "#%%\n"
    }
   }
  },
  {
   "cell_type": "code",
   "execution_count": 158,
   "outputs": [
    {
     "name": "stdout",
     "output_type": "stream",
     "text": [
      "19.831213027238846\n",
      "6.606695580296218\n",
      "5.327420722227544\n"
     ]
    }
   ],
   "source": [
    "optimizer = torch.optim.Adam(autoencoder.parameters(), lr=0.001)\n",
    "loss_function = nn.MSELoss()\n",
    "for i_epoch in range(3):\n",
    "    epoch_loss = 0\n",
    "    for i_batch, (value_batched, label_batched) in enumerate(data_loader):\n",
    "        output = autoencoder(value_batched)\n",
    "        loss = loss_function(output, value_batched)\n",
    "        optimizer.zero_grad()\n",
    "        loss.backward()\n",
    "        optimizer.step()\n",
    "        epoch_loss += loss.item()\n",
    "    print(epoch_loss)"
   ],
   "metadata": {
    "collapsed": false,
    "pycharm": {
     "name": "#%%\n"
    }
   }
  },
  {
   "cell_type": "code",
   "execution_count": 159,
   "outputs": [
    {
     "data": {
      "text/plain": "<Figure size 1440x720 with 2 Axes>",
      "image/png": "[encoded data removed]"
     },
     "metadata": {
      "needs_background": "light"
     },
     "output_type": "display_data"
    }
   ],
   "source": [
    "def plot(model, img, figsize=(20, 10)):\n",
    "    with torch.no_grad():\n",
    "        fig, ax = plt.subplots(nrows=1, ncols=2, figsize=figsize)\n",
    "        ax[0].imshow(img.squeeze().numpy(), cmap=\"gray\")\n",
    "        ax[1].imshow(model(img.unsqueeze(0)).squeeze().numpy(), cmap=\"gray\")\n",
    "        return fig\n",
    "\n",
    "a = plot(autoencoder, t)"
   ],
   "metadata": {
    "collapsed": false,
    "pycharm": {
     "name": "#%%\n"
    }
   }
  },
  {
   "cell_type": "code",
   "execution_count": 151,
   "outputs": [],
   "source": [
    "mu, sigma = 0, 0.1\n",
    "autoencoder_gauss = Autoencoder(1, [4, 8], 28, 28, 3, 2, 0, 64)"
   ],
   "metadata": {
    "collapsed": false,
    "pycharm": {
     "name": "#%%\n"
    }
   }
  },
  {
   "cell_type": "code",
   "execution_count": 152,
   "outputs": [
    {
     "name": "stdout",
     "output_type": "stream",
     "text": [
      "27.20415225625038\n",
      "7.995870176702738\n",
      "5.941454370506108\n"
     ]
    }
   ],
   "source": [
    "optimizer = torch.optim.Adam(autoencoder_gauss.parameters(), lr=0.001)\n",
    "loss_function = nn.MSELoss()\n",
    "for i_epoch in range(3):\n",
    "    epoch_loss = 0\n",
    "    for i_batch, (value_batched, label_batched) in enumerate(data_loader):\n",
    "        filter_batched = gauss_filter(value_batched, mu, sigma)\n",
    "        output = autoencoder_gauss(filter_batched)\n",
    "        loss = loss_function(output, value_batched)\n",
    "        optimizer.zero_grad()\n",
    "        loss.backward()\n",
    "        optimizer.step()\n",
    "        epoch_loss += loss.item()\n",
    "    print(epoch_loss)"
   ],
   "metadata": {
    "collapsed": false,
    "pycharm": {
     "name": "#%%\n"
    }
   }
  },
  {
   "cell_type": "code",
   "execution_count": 153,
   "outputs": [
    {
     "data": {
      "text/plain": "<Figure size 1440x720 with 2 Axes>",
      "image/png": "[encoded data removed]"
     },
     "metadata": {
      "needs_background": "light"
     },
     "output_type": "display_data"
    }
   ],
   "source": [
    "a = plot(autoencoder_gauss, gauss_filter(t, mu, sigma))"
   ],
   "metadata": {
    "collapsed": false,
    "pycharm": {
     "name": "#%%\n"
    }
   }
  },
  {
   "cell_type": "code",
   "execution_count": 154,
   "outputs": [],
   "source": [
    "zero_chance, fill_chance = 0.1, 0.1\n",
    "autoencoder_missing_pixels = Autoencoder(1, [4, 8], 28, 28, 3, 2, 0, 64)"
   ],
   "metadata": {
    "collapsed": false,
    "pycharm": {
     "name": "#%%\n"
    }
   }
  },
  {
   "cell_type": "code",
   "execution_count": 155,
   "outputs": [
    {
     "name": "stdout",
     "output_type": "stream",
     "text": [
      "23.12488680332899\n",
      "10.273780801333487\n",
      "8.932114821858704\n"
     ]
    }
   ],
   "source": [
    "optimizer = torch.optim.Adam(autoencoder_missing_pixels.parameters(), lr=0.001)\n",
    "loss_function = nn.MSELoss()\n",
    "for i_epoch in range(3):\n",
    "    epoch_loss = 0\n",
    "    for i_batch, (value_batched, label_batched) in enumerate(data_loader):\n",
    "        filter_batched = remove_pixel_filter(value_batched, zero_chance, fill_chance, 1)\n",
    "        output = autoencoder_missing_pixels(filter_batched)\n",
    "        loss = loss_function(output, value_batched)\n",
    "        optimizer.zero_grad()\n",
    "        loss.backward()\n",
    "        optimizer.step()\n",
    "        epoch_loss += loss.item()\n",
    "    print(epoch_loss)"
   ],
   "metadata": {
    "collapsed": false,
    "pycharm": {
     "name": "#%%\n"
    }
   }
  },
  {
   "cell_type": "code",
   "execution_count": 156,
   "outputs": [
    {
     "data": {
      "text/plain": "<Figure size 1440x720 with 2 Axes>",
      "image/png": "[encoded data removed]"
     },
     "metadata": {
      "needs_background": "light"
     },
     "output_type": "display_data"
    }
   ],
   "source": [
    "a = plot(autoencoder_missing_pixels, remove_pixel_filter(t, zero_chance, fill_chance, 1))"
   ],
   "metadata": {
    "collapsed": false,
    "pycharm": {
     "name": "#%%\n"
    }
   }
  }
 ],
 "metadata": {
  "kernelspec": {
   "display_name": "Python 3",
   "language": "python",
   "name": "python3"
  },
  "language_info": {
   "codemirror_mode": {
    "name": "ipython",
    "version": 2
   },
   "file_extension": ".py",
   "mimetype": "text/x-python",
   "name": "python",
   "nbconvert_exporter": "python",
   "pygments_lexer": "ipython2",
   "version": "2.7.6"
  }
 },
 "nbformat": 4,
 "nbformat_minor": 0
}