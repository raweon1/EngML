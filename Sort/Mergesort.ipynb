{
 "cells": [
  {
   "cell_type": "code",
   "execution_count": 2,
   "metadata": {
    "collapsed": true
   },
   "outputs": [],
   "source": [
    "import numpy as np"
   ]
  },
  {
   "cell_type": "code",
   "execution_count": 16,
   "outputs": [],
   "source": [
    "foo = np.random.randn(100000)\n",
    "is_sorted = lambda a: np.all(a[:-1] <= a[1:])"
   ],
   "metadata": {
    "collapsed": false,
    "pycharm": {
     "name": "#%%\n"
    }
   }
  },
  {
   "cell_type": "code",
   "execution_count": 19,
   "outputs": [
    {
     "name": "stdout",
     "output_type": "stream",
     "text": [
      "True\n",
      "812 ms ± 83.3 ms per loop (mean ± std. dev. of 7 runs, 1 loop each)\n"
     ]
    }
   ],
   "source": [
    "def mergesort(a, descending=False):\n",
    "    b = a.copy()\n",
    "    c = a.copy()\n",
    "    _div_merge(b, c, 0, b.shape[0])\n",
    "    if descending:\n",
    "        return b[::-1]\n",
    "    return b\n",
    "\n",
    "def _div_merge(a, b, start, end):\n",
    "    if end - start == 1:\n",
    "        return start, end\n",
    "    else:\n",
    "        middle = start + (end - start) // 2\n",
    "        return _merge(a, b, *_div_merge(a, b, start, middle), *_div_merge(a, b, middle, end))\n",
    "\n",
    "def _merge(a, b, l_start, l_end, r_start, r_end):\n",
    "    s, e = l_start, r_end\n",
    "    for i in range(s, e):\n",
    "        if a[l_start] < a[r_start]:\n",
    "            b[i] = a[l_start]\n",
    "            l_start += 1\n",
    "        else:\n",
    "            b[i] = a[r_start]\n",
    "            r_start += 1\n",
    "        if l_start == l_end:\n",
    "            break\n",
    "        if r_start == r_end:\n",
    "            b[i+1:r_end] = a[l_start:l_end]\n",
    "            break\n",
    "    a[s:e] = b[s:e]\n",
    "    return s, e\n",
    "\n",
    "bar = mergesort(foo)\n",
    "print(is_sorted(bar))"
   ],
   "metadata": {
    "collapsed": false,
    "pycharm": {
     "name": "#%%\n"
    }
   }
  },
  {
   "cell_type": "code",
   "execution_count": 23,
   "outputs": [
    {
     "name": "stdout",
     "output_type": "stream",
     "text": [
      "636 ms ± 5.49 ms per loop (mean ± std. dev. of 7 runs, 1 loop each)\n"
     ]
    }
   ],
   "source": [
    "%timeit mergesort(foo, descending=False)"
   ],
   "metadata": {
    "collapsed": false,
    "pycharm": {
     "name": "#%%\n"
    }
   }
  },
  {
   "cell_type": "code",
   "execution_count": 20,
   "outputs": [
    {
     "name": "stdout",
     "output_type": "stream",
     "text": [
      "761 µs ± 33.3 µs per loop (mean ± std. dev. of 7 runs, 1000 loops each)\n"
     ]
    }
   ],
   "source": [
    "%timeit foo.sort()\n"
   ],
   "metadata": {
    "collapsed": false,
    "pycharm": {
     "name": "#%%\n"
    }
   }
  }
 ],
 "metadata": {
  "kernelspec": {
   "name": "python3",
   "language": "python",
   "display_name": "Python 3 (ipykernel)"
  },
  "language_info": {
   "codemirror_mode": {
    "name": "ipython",
    "version": 2
   },
   "file_extension": ".py",
   "mimetype": "text/x-python",
   "name": "python",
   "nbconvert_exporter": "python",
   "pygments_lexer": "ipython2",
   "version": "2.7.6"
  }
 },
 "nbformat": 4,
 "nbformat_minor": 0
}